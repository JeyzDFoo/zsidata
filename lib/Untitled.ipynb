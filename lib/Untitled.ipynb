{
 "cells": [
  {
   "cell_type": "markdown",
   "id": "91b29d08-2c5f-46f1-ad0f-40048e6f3ad2",
   "metadata": {},
   "source": [
    "# Example Title\n",
    "## Subtitle\n",
    "\n",
    "this is an example notebook\n",
    "\n",
    "1. item one\n",
    "2. item two\n",
    "3. item three"
   ]
  },
  {
   "cell_type": "code",
   "execution_count": 1,
   "id": "668dafd1-1bc9-43c0-8f25-cc24f64e7041",
   "metadata": {},
   "outputs": [
    {
     "name": "stdout",
     "output_type": "stream",
     "text": [
      "hello\n"
     ]
    }
   ],
   "source": [
    "print('hello')"
   ]
  },
  {
   "cell_type": "code",
   "execution_count": 1,
   "id": "ad6d9423-f1d7-43af-bc2e-ee38a9cca704",
   "metadata": {},
   "outputs": [
    {
     "name": "stdout",
     "output_type": "stream",
     "text": [
      "world\n"
     ]
    }
   ],
   "source": [
    "print('world')"
   ]
  },
  {
   "cell_type": "markdown",
   "id": "e7690c1f-a1b6-4c55-8706-a04a628b8339",
   "metadata": {},
   "source": [
    "this yis a test"
   ]
  },
  {
   "cell_type": "code",
   "execution_count": null,
   "id": "cd0b4d80-a35c-4335-ba4c-85645846d371",
   "metadata": {},
   "outputs": [],
   "source": []
  }
 ],
 "metadata": {
  "kernelspec": {
   "display_name": "Python 3 (ipykernel)",
   "language": "python",
   "name": "python3"
  },
  "language_info": {
   "codemirror_mode": {
    "name": "ipython",
    "version": 3
   },
   "file_extension": ".py",
   "mimetype": "text/x-python",
   "name": "python",
   "nbconvert_exporter": "python",
   "pygments_lexer": "ipython3",
   "version": "3.10.4"
  },
  "toc-autonumbering": false,
  "toc-showcode": true,
  "toc-showmarkdowntxt": false
 },
 "nbformat": 4,
 "nbformat_minor": 5
}
